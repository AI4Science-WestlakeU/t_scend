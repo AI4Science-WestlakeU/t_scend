{
 "cells": [
  {
   "cell_type": "markdown",
   "metadata": {},
   "source": [
    "## Basic package"
   ]
  },
  {
   "cell_type": "code",
   "execution_count": null,
   "metadata": {},
   "outputs": [],
   "source": [
    "# try:\n",
    "#     %load_ext autoreload\n",
    "#     %autoreload 2\n",
    "# except:\n",
    "#     pass\n",
    "# other package imports\n",
    "import matplotlib.pyplot as plt  # keep this import for CI to work\n",
    "from zanj import ZANJ  # saving/loading data\n",
    "from muutils.mlutils import pprint_summary  # pretty printing as json\n",
    "import argparse\n",
    "import os\n",
    "import sys\n",
    "import tqdm\n",
    "import numpy as np\n",
    "\n",
    "# maze_dataset imports\n",
    "from maze_dataset import LatticeMaze, SolvedMaze, MazeDataset, MazeDatasetConfig\n",
    "from maze_dataset.generation import LatticeMazeGenerators, GENERATORS_MAP\n",
    "from maze_dataset.generation.default_generators import DEFAULT_GENERATORS\n",
    "from maze_dataset.dataset.configs import MAZE_DATASET_CONFIGS\n",
    "from maze_dataset.plotting import plot_dataset_mazes, print_dataset_mazes\n",
    "\n",
    "# check the configs\n",
    "print(MAZE_DATASET_CONFIGS.keys())\n",
    "# for saving/loading things\n",
    "LOCAL_DATA_PATH: str = \"../data/maze_dataset/\"\n",
    "zanj: ZANJ = ZANJ(external_list_threshold=256)\n",
    "\n",
    "def str2bool(x):\n",
    "    if isinstance(x, bool):\n",
    "        return x\n",
    "    x = x.lower()\n",
    "    if x[0] in ['0', 'n', 'f']:\n",
    "        return False\n",
    "    elif x[0] in ['1', 'y', 't']:\n",
    "        return True\n",
    "    raise ValueError('Invalid value: {}'.format(x))\n"
   ]
  },
  {
   "cell_type": "markdown",
   "metadata": {},
   "source": [
    "## basic configs of dataset"
   ]
  },
  {
   "cell_type": "code",
   "execution_count": 2,
   "metadata": {},
   "outputs": [],
   "source": [
    "sys.argv = [sys.argv[0]]\n",
    "parser = argparse.ArgumentParser(description=\"Generate a dataset of mazes\")\n",
    "parser.add_argument(\"--dataset_name\", type=str, default=\"Maze_test\", help=\"Name of the dataset\")\n",
    "parser.add_argument(\"--grid_n\", type=int, default=10, help=\"Number of rows/columns in the lattice\")\n",
    "parser.add_argument(\"--n_mazes\", type=int, default=1000, help=\"Number of mazes to generate\")\n",
    "parser.add_argument(\"--maze_ctor\", type=str, default=\"gen_dfs\", help=\"Algorithm to generate the maze\")\n",
    "parser.add_argument(\"--do_download\", type=str2bool, default=False, help=\"Download the dataset\")\n",
    "parser.add_argument(\"--load_local\", type=str2bool, default=False, help=\"Load the dataset locally\")\n",
    "parser.add_argument(\"--do_generate\", type=str2bool, default=True, help=\"Generate the dataset\")\n",
    "parser.add_argument(\"--save_local\", type=str2bool, default=True, help=\"Save the dataset locally\")\n",
    "parser.add_argument(\"--local_base_path\", type=str, default=None, help=\"Base path for local storage\")\n",
    "parser.add_argument(\"--verbose\", type=str2bool, default=True, help=\"Print information about the dataset\")\n",
    "parser.add_argument(\"--gen_parallel\", type=str2bool, default=False, help=\"Generate the mazes in parallel\")\n",
    "parser.add_argument(\"--min_length\", type=int, default=0, help=\"Minimum length of the maze\")\n",
    "parser.add_argument(\"--max_length\", type=int, default=100, help=\"Maximum length of the maze\")\n",
    "\n",
    "args = parser.parse_args()\n",
    "\n",
    "try:\n",
    "    get_ipython().run_line_magic('matplotlib', 'inline')\n",
    "    args = parser.parse_args([])\n",
    "    # args.dataset_name = \"Maze-train\"\n",
    "    # args.dataset_name = \"Maze-val\"\n",
    "    args.dataset_name = \"Maze-test\"\n",
    "    # args.dataset_name = \"TEST\"\n",
    "    args.grid_n = 30\n",
    "    args.n_mazes = 1000\n",
    "    args.maze_ctor = \"gen_dfs\"\n",
    "    args.do_download = False\n",
    "    args.load_local = False\n",
    "    args.do_generate = True\n",
    "    args.save_local = False\n",
    "    args.local_base_path = \"./x/dataset/maze\" \n",
    "    args.verbose = True\n",
    "    args.gen_parallel = True\n",
    "    args.min_length = 5\n",
    "    args.max_length = 20\n",
    "\n",
    "    is_jupyter = True\n",
    "except:\n",
    "    args = parser.parse_args()\n",
    "    is_jupyter = False\n",
    "\n",
    "args.local_base_path = args.local_base_path + \"/\" + args.dataset_name+f'grid_n-{args.grid_n}_n_mazes-{args.n_mazes}_min_length-{args.min_length}_max_length-{args.max_length}'\n",
    "# if not os.path.exists(args.local_base_path):\n",
    "#     os.makedirs(args.local_base_path)\n",
    "cfg: MazeDatasetConfig = MazeDatasetConfig(\n",
    "    name=args.dataset_name,  # name of the dataset\n",
    "    grid_n=args.grid_n,  # number of rows/columns in the lattice\n",
    "    n_mazes=args.n_mazes,  # number of mazes to generate\n",
    "    maze_ctor=LatticeMazeGenerators.gen_dfs,  # algorithm to generate the maze\n",
    "    # there are a few more arguments here, to be discussed later\n",
    ")"
   ]
  },
  {
   "cell_type": "markdown",
   "metadata": {},
   "source": [
    "# Generate dataset from configs"
   ]
  },
  {
   "cell_type": "code",
   "execution_count": null,
   "metadata": {},
   "outputs": [],
   "source": [
    "dataset: MazeDataset = MazeDataset.from_config(\n",
    "    cfg,\n",
    "    # and all this below is completely optional\n",
    "    do_download=args.do_download,\n",
    "    load_local=args.load_local,\n",
    "    do_generate=args.do_generate,\n",
    "    save_local=args.save_local,\n",
    "    local_base_path=args.local_base_path,\n",
    "    verbose=args.verbose,\n",
    "    zanj=zanj,\n",
    "    gen_parallel=args.gen_parallel,\n",
    ")"
   ]
  },
  {
   "cell_type": "markdown",
   "metadata": {},
   "source": [
    "# plot some datapoints"
   ]
  },
  {
   "cell_type": "code",
   "execution_count": null,
   "metadata": {},
   "outputs": [],
   "source": [
    "plot_dataset_mazes(\n",
    "    dataset, count=6\n",
    ")  # for large datasets, set the count to some int to just plot the first few"
   ]
  },
  {
   "cell_type": "markdown",
   "metadata": {},
   "source": [
    "# Filter out some datapoints"
   ]
  },
  {
   "cell_type": "code",
   "execution_count": null,
   "metadata": {},
   "outputs": [],
   "source": [
    "# dataset_filtered: MazeDataset = dataset.filter_by.path_length(min_length=args.min_length)\n",
    "dataset_filtered: MazeDataset = dataset.filter_by.path_length(min_length=args.min_length)\n",
    "plot_dataset_mazes(\n",
    "    dataset_filtered, count=1\n",
    ")  # for large datasets, set the count to some int to just plot the first few"
   ]
  },
  {
   "cell_type": "markdown",
   "metadata": {},
   "source": [
    "# process the origin dataset to image dataset\n",
    "Each image is a $H*W*3$ matrix, where H and W equal to $N_{grid} *2 +1$, number of channels is 3, including map,goal, and path. For map, -1 means free space, 1 means obstacle. For goal, 0 means start point, 1 means goal point. For path, -1 means no path, 1 means path."
   ]
  },
  {
   "cell_type": "code",
   "execution_count": null,
   "metadata": {},
   "outputs": [],
   "source": [
    "WALL = 1\n",
    "REE = -1\n",
    "START = 0\n",
    "END = 1\n",
    "PATH_POINT = 1\n",
    "args.local_base_path = args.local_base_path +'N-'+str(len(dataset_filtered))\n",
    "if not os.path.exists(args.local_base_path):\n",
    "    os.makedirs(args.local_base_path)\n",
    "plot_dataset_mazes(\n",
    "    dataset_filtered, count=1\n",
    ")  # for large datasets, set the count to some int to just plot the first few\n",
    "\n",
    "# for i in tqdm.tgrange(len(dataset_filtered)):\n",
    "for i in range(len(dataset_filtered)):\n",
    "    data_i = dataset_filtered[i]\n",
    "    pixel_grid_bw = data_i._as_pixels_bw()\n",
    "    pixel_grid = np.full(\n",
    "        (*pixel_grid_bw.shape, 3), -1, dtype=np.int8\n",
    "    ) # set all to -1 [H,W,3]\n",
    "    # set map\n",
    "    pixel_grid[pixel_grid_bw == True,0] = WALL\n",
    "\n",
    "    # Set goal\n",
    "    pixel_grid[data_i.start_pos[0] * 2 + 1, data_i.start_pos[1] * 2 + 1,1] = START\n",
    "    pixel_grid[data_i.end_pos[0] * 2 + 1, data_i.end_pos[1] * 2 + 1,1] = END\n",
    "\n",
    "    # Set path\n",
    "    for coord in data_i.solution:\n",
    "        pixel_grid[coord[0] * 2 + 1, coord[1] * 2 + 1,2] = PATH_POINT\n",
    "    ## set pixels between coords\n",
    "    for index, coord in enumerate(data_i.solution[:-1]):\n",
    "        next_coord = data_i.solution[index + 1]\n",
    "        # check they are adjacent using norm\n",
    "        assert (\n",
    "            np.linalg.norm(np.array(coord) - np.array(next_coord)) == 1\n",
    "        ), f\"Coords {coord} and {next_coord} are not adjacent\"\n",
    "        # set pixel between them\n",
    "        pixel_grid[\n",
    "            coord[0] * 2 + 1 + next_coord[0] - coord[0],\n",
    "            coord[1] * 2 + 1 + next_coord[1] - coord[1],2\n",
    "        ] = PATH_POINT\n",
    "    np.save(f\"{args.local_base_path}/maze_solved-{i}.npy\", pixel_grid)\n",
    "\n",
    "# plt pixel_grid\n",
    "img_show = (pixel_grid+1.0)*122\n",
    "plt.imshow(img_show)\n",
    "\n",
    "\n",
    "print(f\"Done! {len(dataset_filtered)} datapoints saved to {args.local_base_path}\")"
   ]
  },
  {
   "cell_type": "code",
   "execution_count": null,
   "metadata": {},
   "outputs": [],
   "source": [
    "def plot_maze_from_pixel_grid(pixel_grid, save_path=None):\n",
    "    \"\"\"\n",
    "    Plot the maze based on the given pixel grid and save the image.\n",
    "    - WALL = 1 -> black\n",
    "    - START = 0 -> green\n",
    "    - END = 1 -> purple\n",
    "    - PATH_POINT = 1 -> blue\n",
    "    - Other regions -> white\n",
    "    \n",
    "    Args:\n",
    "        pixel_grid (numpy.ndarray): The pixel grid representing the maze (shape: [H, W, 3]).\n",
    "        save_path (str, optional): The path to save the plotted image. If None, the plot will be displayed instead.\n",
    "    \"\"\"\n",
    "    # Create an empty RGB grid to store the color information (H, W, 3)\n",
    "    H, W, _ = pixel_grid.shape\n",
    "\n",
    "    # Create an empty RGB grid to store the color information (H, W, 3)\n",
    "    maze_rgb = np.ones((H, W, 3), dtype=np.float32)  # Initialize with white color\n",
    "\n",
    "    # WALL = 1 -> black\n",
    "    maze_rgb[pixel_grid[:, :, 0] == 1] = [0, 0, 0]  # Set wall to black\n",
    "\n",
    "    # START = 0 -> green (path[0,1] = green)\n",
    "    maze_rgb[pixel_grid[:, :, 1] == 0] = [0, 1, 0]  # Set start point to green\n",
    "\n",
    "    # END = 1 -> purple (path[0,2] = purple)\n",
    "    maze_rgb[pixel_grid[:, :, 1] == 1] = [1, 0, 1]  # Set end point to purple\n",
    "\n",
    "    # PATH_POINT = 1 -> blue (path[2] = blue)\n",
    "    maze_rgb[pixel_grid[:, :, 2] == 1] = [0, 0, 1]  # Set path to blue\n",
    "\n",
    "    # Plotting the maze\n",
    "    plt.figure(figsize=(H / 10, W / 10))\n",
    "    plt.imshow(maze_rgb)\n",
    "    plt.axis('off')  # Hide axes\n",
    "\n",
    "    # Saving or showing the plot\n",
    "    if save_path:\n",
    "        plt.savefig(save_path, dpi=300, bbox_inches='tight')\n",
    "        print(f\"Maze saved to {save_path}\")\n",
    "    else:\n",
    "        plt.show()  # Show the maze if no save path is provided\n",
    "\n",
    "    plt.close()\n",
    "\n",
    "plot_dataset_mazes(pixel_grid)"
   ]
  },
  {
   "cell_type": "code",
   "execution_count": null,
   "metadata": {},
   "outputs": [],
   "source": [
    "img_show = (pixel_grid+1.0)*122\n",
    "pixel_grid_wall = pixel_grid[...,0]==1\n",
    "pixel_grid_start = pixel_grid[...,1]==0\n",
    "pixel_grid_end = pixel_grid[...,1]==1\n",
    "pixel_grid_path = pixel_grid[...,2]==1\n",
    "img_show = np.ones_like(pixel_grid)*255\n",
    "img_show[pixel_grid_wall] = [0,0,0]\n",
    "# img_show[pixel_grid_start] = [0,255,0]\n",
    "# img_show[pixel_grid_end] = [0,0,255]\n",
    "# img_show[pixel_grid_path & ~pixel_grid_start & ~pixel_grid_end] = [0,0,122]\n",
    "plt.imshow(img_show)"
   ]
  },
  {
   "cell_type": "markdown",
   "metadata": {},
   "source": []
  }
 ],
 "metadata": {
  "kernelspec": {
   "display_name": "Python 3",
   "language": "python",
   "name": "python3"
  },
  "language_info": {
   "codemirror_mode": {
    "name": "ipython",
    "version": 3
   },
   "file_extension": ".py",
   "mimetype": "text/x-python",
   "name": "python",
   "nbconvert_exporter": "python",
   "pygments_lexer": "ipython3",
   "version": "3.8.10"
  }
 },
 "nbformat": 4,
 "nbformat_minor": 2
}
